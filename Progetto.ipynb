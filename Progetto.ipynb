{
 "cells": [
  {
   "cell_type": "code",
   "outputs": [
    {
     "name": "stdout",
     "output_type": "stream",
     "text": [
      "Collecting qiskit-aer\r\n",
      "  Obtaining dependency information for qiskit-aer from https://files.pythonhosted.org/packages/a0/ef/1d2d9e18d8a735876fe862408248e850cd264769eebb307c7de52f10abdc/qiskit_aer-0.14.1-cp310-cp310-manylinux_2_17_x86_64.manylinux2014_x86_64.whl.metadata\r\n",
      "  Using cached qiskit_aer-0.14.1-cp310-cp310-manylinux_2_17_x86_64.manylinux2014_x86_64.whl.metadata (8.0 kB)\r\n",
      "Requirement already satisfied: qiskit>=0.45.0 in ./.venv/lib/python3.10/site-packages (from qiskit-aer) (1.1.0)\r\n",
      "Requirement already satisfied: numpy>=1.16.3 in ./.venv/lib/python3.10/site-packages (from qiskit-aer) (1.26.4)\r\n",
      "Requirement already satisfied: scipy>=1.0 in ./.venv/lib/python3.10/site-packages (from qiskit-aer) (1.13.1)\r\n",
      "Requirement already satisfied: psutil>=5 in ./.venv/lib/python3.10/site-packages (from qiskit-aer) (5.9.8)\r\n",
      "Requirement already satisfied: rustworkx>=0.14.0 in ./.venv/lib/python3.10/site-packages (from qiskit>=0.45.0->qiskit-aer) (0.14.2)\r\n",
      "Requirement already satisfied: sympy>=1.3 in ./.venv/lib/python3.10/site-packages (from qiskit>=0.45.0->qiskit-aer) (1.12)\r\n",
      "Requirement already satisfied: dill>=0.3 in ./.venv/lib/python3.10/site-packages (from qiskit>=0.45.0->qiskit-aer) (0.3.8)\r\n",
      "Requirement already satisfied: python-dateutil>=2.8.0 in ./.venv/lib/python3.10/site-packages (from qiskit>=0.45.0->qiskit-aer) (2.9.0.post0)\r\n",
      "Requirement already satisfied: stevedore>=3.0.0 in ./.venv/lib/python3.10/site-packages (from qiskit>=0.45.0->qiskit-aer) (5.2.0)\r\n",
      "Requirement already satisfied: typing-extensions in ./.venv/lib/python3.10/site-packages (from qiskit>=0.45.0->qiskit-aer) (4.12.0)\r\n",
      "Requirement already satisfied: symengine>=0.11 in ./.venv/lib/python3.10/site-packages (from qiskit>=0.45.0->qiskit-aer) (0.11.0)\r\n",
      "Requirement already satisfied: six>=1.5 in ./.venv/lib/python3.10/site-packages (from python-dateutil>=2.8.0->qiskit>=0.45.0->qiskit-aer) (1.16.0)\r\n",
      "Requirement already satisfied: pbr!=2.1.0,>=2.0.0 in ./.venv/lib/python3.10/site-packages (from stevedore>=3.0.0->qiskit>=0.45.0->qiskit-aer) (6.0.0)\r\n",
      "Requirement already satisfied: mpmath>=0.19 in ./.venv/lib/python3.10/site-packages (from sympy>=1.3->qiskit>=0.45.0->qiskit-aer) (1.3.0)\r\n",
      "Using cached qiskit_aer-0.14.1-cp310-cp310-manylinux_2_17_x86_64.manylinux2014_x86_64.whl (12.3 MB)\r\n",
      "Installing collected packages: qiskit-aer\r\n",
      "Successfully installed qiskit-aer-0.14.1\r\n",
      "\r\n",
      "\u001B[1m[\u001B[0m\u001B[34;49mnotice\u001B[0m\u001B[1;39;49m]\u001B[0m\u001B[39;49m A new release of pip is available: \u001B[0m\u001B[31;49m23.2.1\u001B[0m\u001B[39;49m -> \u001B[0m\u001B[32;49m24.0\u001B[0m\r\n",
      "\u001B[1m[\u001B[0m\u001B[34;49mnotice\u001B[0m\u001B[1;39;49m]\u001B[0m\u001B[39;49m To update, run: \u001B[0m\u001B[32;49mpip install --upgrade pip\u001B[0m\r\n",
      "Note: you may need to restart the kernel to use updated packages.\n"
     ]
    }
   ],
   "source": [
    "pip install qiskit-aer"
   ],
   "metadata": {
    "collapsed": false,
    "ExecuteTime": {
     "end_time": "2024-05-24T13:59:27.343081Z",
     "start_time": "2024-05-24T13:59:25.134804Z"
    }
   },
   "id": "6c78178abb87dc73",
   "execution_count": 3
  },
  {
   "cell_type": "code",
   "outputs": [
    {
     "name": "stdout",
     "output_type": "stream",
     "text": [
      "Requirement already satisfied: matplotlib in ./.venv/lib/python3.10/site-packages (3.9.0)\r\n",
      "Requirement already satisfied: contourpy>=1.0.1 in ./.venv/lib/python3.10/site-packages (from matplotlib) (1.2.1)\r\n",
      "Requirement already satisfied: cycler>=0.10 in ./.venv/lib/python3.10/site-packages (from matplotlib) (0.12.1)\r\n",
      "Requirement already satisfied: fonttools>=4.22.0 in ./.venv/lib/python3.10/site-packages (from matplotlib) (4.51.0)\r\n",
      "Requirement already satisfied: kiwisolver>=1.3.1 in ./.venv/lib/python3.10/site-packages (from matplotlib) (1.4.5)\r\n",
      "Requirement already satisfied: numpy>=1.23 in ./.venv/lib/python3.10/site-packages (from matplotlib) (1.26.4)\r\n",
      "Requirement already satisfied: packaging>=20.0 in ./.venv/lib/python3.10/site-packages (from matplotlib) (24.0)\r\n",
      "Requirement already satisfied: pillow>=8 in ./.venv/lib/python3.10/site-packages (from matplotlib) (10.3.0)\r\n",
      "Requirement already satisfied: pyparsing>=2.3.1 in ./.venv/lib/python3.10/site-packages (from matplotlib) (3.1.2)\r\n",
      "Requirement already satisfied: python-dateutil>=2.7 in ./.venv/lib/python3.10/site-packages (from matplotlib) (2.9.0.post0)\r\n",
      "Requirement already satisfied: six>=1.5 in ./.venv/lib/python3.10/site-packages (from python-dateutil>=2.7->matplotlib) (1.16.0)\r\n",
      "\r\n",
      "\u001B[1m[\u001B[0m\u001B[34;49mnotice\u001B[0m\u001B[1;39;49m]\u001B[0m\u001B[39;49m A new release of pip is available: \u001B[0m\u001B[31;49m23.2.1\u001B[0m\u001B[39;49m -> \u001B[0m\u001B[32;49m24.0\u001B[0m\r\n",
      "\u001B[1m[\u001B[0m\u001B[34;49mnotice\u001B[0m\u001B[1;39;49m]\u001B[0m\u001B[39;49m To update, run: \u001B[0m\u001B[32;49mpip install --upgrade pip\u001B[0m\r\n",
      "Note: you may need to restart the kernel to use updated packages.\n"
     ]
    }
   ],
   "source": [
    "pip install matplotlib"
   ],
   "metadata": {
    "collapsed": false,
    "ExecuteTime": {
     "end_time": "2024-05-26T13:43:28.937117Z",
     "start_time": "2024-05-26T13:43:26.939175Z"
    }
   },
   "id": "489580453f09c6c5",
   "execution_count": 1
  },
  {
   "cell_type": "code",
   "execution_count": 2,
   "id": "initial_id",
   "metadata": {
    "collapsed": true,
    "ExecuteTime": {
     "end_time": "2024-05-26T13:43:29.987608Z",
     "start_time": "2024-05-26T13:43:28.941181Z"
    }
   },
   "outputs": [],
   "source": [
    "import numpy as np\n",
    "from qiskit_aer import Aer\n",
    "from qiskit import QuantumCircuit\n",
    "from qiskit.visualization import plot_histogram\n",
    "import matplotlib.pyplot as plt\n",
    "from qiskit.quantum_info import Statevector\n",
    "\n",
    "# Definizione dei coefficienti\n",
    "alpha = np.sqrt(0.3)\n",
    "beta = np.sqrt(0.7)\n",
    "\n",
    "# Creare un circuito quantistico con 3 qubit e 2 bit classici\n",
    "qc = QuantumCircuit(3, 2)\n",
    "\n",
    "# Preparare lo stato |ψ⟩ = α|0⟩ + β|1⟩ sul primo qubit\n",
    "norm = np.sqrt(alpha**2 + beta**2)\n",
    "qc.initialize([alpha/norm, beta/norm], 0)\n",
    "\n",
    "# Creare una coppia di Bell tra il secondo e il terzo qubit\n",
    "qc.h(1)\n",
    "qc.cx(1, 2)\n",
    "\n",
    "\n",
    "# Alice esegue una misura di Bell sul primo e secondo qubit\n",
    "qc.cx(0, 1)\n",
    "qc.h(0)\n",
    "qc.measure([0, 1], [0, 1])\n",
    "\n",
    "# Applicare le operazioni correttive a seconda delle misure di Alice\n",
    "qc.x(2).c_if(qc.clbits[0], 1)  # Se il primo bit misurato è 1, applicare X\n",
    "qc.z(2).c_if(qc.clbits[1], 1)  # Se il secondo bit misurato è 1, applicare Z\n",
    "\n",
    "backend = Aer.get_backend('statevector_simulator')\n",
    "job = backend.run(qc)\n",
    "result = job.result()\n",
    "statevector = result.get_statevector()\n"
   ]
  },
  {
   "cell_type": "code",
   "outputs": [
    {
     "name": "stdout",
     "output_type": "stream",
     "text": [
      "Statevector finale di Bob: [0.54772256 0.83666003]\n",
      "Stato iniziale di Alice: [0.54772256 0.83666003]\n",
      "Teletrasporto riuscito: True\n"
     ]
    }
   ],
   "source": [
    "# Convertire il vettore di stato in un oggetto Statevector\n",
    "statevector = Statevector(statevector)\n",
    "\n",
    "# Estrarre le probabilità degli stati del terzo qubit\n",
    "prob_zero = statevector.probabilities([2])[0]  # probabilità di qubit 2 essere 0\n",
    "prob_one = statevector.probabilities([2])[1]   # probabilità di qubit 2 essere 1\n",
    "\n",
    "# Ricostruire lo stato finale di Bob\n",
    "state_bob = np.array([np.sqrt(prob_zero), np.sqrt(prob_one)])\n",
    "\n",
    "# Stato iniziale di Alice\n",
    "state_alice = np.array([alpha/norm, beta/norm])\n",
    "\n",
    "# Confrontare lo stato di Bob con lo stato iniziale di Alice\n",
    "success = np.allclose(state_bob, state_alice, atol=1e-2)\n",
    "print(\"Statevector finale di Bob:\", state_bob)\n",
    "print(\"Stato iniziale di Alice:\", state_alice)\n",
    "print(\"Teletrasporto riuscito:\", success)"
   ],
   "metadata": {
    "collapsed": false,
    "ExecuteTime": {
     "end_time": "2024-05-26T13:43:29.993582Z",
     "start_time": "2024-05-26T13:43:29.988852Z"
    }
   },
   "id": "59cc1fee1ac7a4c6",
   "execution_count": 3
  },
  {
   "cell_type": "markdown",
   "source": [],
   "metadata": {
    "collapsed": false
   },
   "id": "6b9e5fb13ae6a69b"
  }
 ],
 "metadata": {
  "kernelspec": {
   "display_name": "Python 3",
   "language": "python",
   "name": "python3"
  },
  "language_info": {
   "codemirror_mode": {
    "name": "ipython",
    "version": 2
   },
   "file_extension": ".py",
   "mimetype": "text/x-python",
   "name": "python",
   "nbconvert_exporter": "python",
   "pygments_lexer": "ipython2",
   "version": "2.7.6"
  }
 },
 "nbformat": 4,
 "nbformat_minor": 5
}
