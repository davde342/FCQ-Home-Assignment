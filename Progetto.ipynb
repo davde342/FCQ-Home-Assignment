{
 "cells": [
  {
   "cell_type": "code",
   "outputs": [
    {
     "name": "stdout",
     "output_type": "stream",
     "text": [
      "Requirement already satisfied: qiskit-aer in ./.venv/lib/python3.10/site-packages (0.14.1)\r\n",
      "Requirement already satisfied: qiskit>=0.45.0 in ./.venv/lib/python3.10/site-packages (from qiskit-aer) (1.1.0)\r\n",
      "Requirement already satisfied: numpy>=1.16.3 in ./.venv/lib/python3.10/site-packages (from qiskit-aer) (1.26.4)\r\n",
      "Requirement already satisfied: scipy>=1.0 in ./.venv/lib/python3.10/site-packages (from qiskit-aer) (1.13.1)\r\n",
      "Requirement already satisfied: psutil>=5 in ./.venv/lib/python3.10/site-packages (from qiskit-aer) (5.9.8)\r\n",
      "Requirement already satisfied: rustworkx>=0.14.0 in ./.venv/lib/python3.10/site-packages (from qiskit>=0.45.0->qiskit-aer) (0.14.2)\r\n",
      "Requirement already satisfied: sympy>=1.3 in ./.venv/lib/python3.10/site-packages (from qiskit>=0.45.0->qiskit-aer) (1.12)\r\n",
      "Requirement already satisfied: dill>=0.3 in ./.venv/lib/python3.10/site-packages (from qiskit>=0.45.0->qiskit-aer) (0.3.8)\r\n",
      "Requirement already satisfied: python-dateutil>=2.8.0 in ./.venv/lib/python3.10/site-packages (from qiskit>=0.45.0->qiskit-aer) (2.9.0.post0)\r\n",
      "Requirement already satisfied: stevedore>=3.0.0 in ./.venv/lib/python3.10/site-packages (from qiskit>=0.45.0->qiskit-aer) (5.2.0)\r\n",
      "Requirement already satisfied: typing-extensions in ./.venv/lib/python3.10/site-packages (from qiskit>=0.45.0->qiskit-aer) (4.12.0)\r\n",
      "Requirement already satisfied: symengine>=0.11 in ./.venv/lib/python3.10/site-packages (from qiskit>=0.45.0->qiskit-aer) (0.11.0)\r\n",
      "Requirement already satisfied: six>=1.5 in ./.venv/lib/python3.10/site-packages (from python-dateutil>=2.8.0->qiskit>=0.45.0->qiskit-aer) (1.16.0)\r\n",
      "Requirement already satisfied: pbr!=2.1.0,>=2.0.0 in ./.venv/lib/python3.10/site-packages (from stevedore>=3.0.0->qiskit>=0.45.0->qiskit-aer) (6.0.0)\r\n",
      "Requirement already satisfied: mpmath>=0.19 in ./.venv/lib/python3.10/site-packages (from sympy>=1.3->qiskit>=0.45.0->qiskit-aer) (1.3.0)\r\n",
      "\r\n",
      "\u001B[1m[\u001B[0m\u001B[34;49mnotice\u001B[0m\u001B[1;39;49m]\u001B[0m\u001B[39;49m A new release of pip is available: \u001B[0m\u001B[31;49m23.2.1\u001B[0m\u001B[39;49m -> \u001B[0m\u001B[32;49m24.0\u001B[0m\r\n",
      "\u001B[1m[\u001B[0m\u001B[34;49mnotice\u001B[0m\u001B[1;39;49m]\u001B[0m\u001B[39;49m To update, run: \u001B[0m\u001B[32;49mpip install --upgrade pip\u001B[0m\r\n",
      "Note: you may need to restart the kernel to use updated packages.\n"
     ]
    }
   ],
   "source": [
    "pip install qiskit-aer"
   ],
   "metadata": {
    "collapsed": false,
    "ExecuteTime": {
     "end_time": "2024-05-26T15:20:22.363071Z",
     "start_time": "2024-05-26T15:20:20.836052Z"
    }
   },
   "id": "6c78178abb87dc73",
   "execution_count": 132
  },
  {
   "cell_type": "code",
   "outputs": [
    {
     "name": "stdout",
     "output_type": "stream",
     "text": [
      "Requirement already satisfied: matplotlib in ./.venv/lib/python3.10/site-packages (3.9.0)\r\n",
      "Requirement already satisfied: contourpy>=1.0.1 in ./.venv/lib/python3.10/site-packages (from matplotlib) (1.2.1)\r\n",
      "Requirement already satisfied: cycler>=0.10 in ./.venv/lib/python3.10/site-packages (from matplotlib) (0.12.1)\r\n",
      "Requirement already satisfied: fonttools>=4.22.0 in ./.venv/lib/python3.10/site-packages (from matplotlib) (4.51.0)\r\n",
      "Requirement already satisfied: kiwisolver>=1.3.1 in ./.venv/lib/python3.10/site-packages (from matplotlib) (1.4.5)\r\n",
      "Requirement already satisfied: numpy>=1.23 in ./.venv/lib/python3.10/site-packages (from matplotlib) (1.26.4)\r\n",
      "Requirement already satisfied: packaging>=20.0 in ./.venv/lib/python3.10/site-packages (from matplotlib) (24.0)\r\n",
      "Requirement already satisfied: pillow>=8 in ./.venv/lib/python3.10/site-packages (from matplotlib) (10.3.0)\r\n",
      "Requirement already satisfied: pyparsing>=2.3.1 in ./.venv/lib/python3.10/site-packages (from matplotlib) (3.1.2)\r\n",
      "Requirement already satisfied: python-dateutil>=2.7 in ./.venv/lib/python3.10/site-packages (from matplotlib) (2.9.0.post0)\r\n",
      "Requirement already satisfied: six>=1.5 in ./.venv/lib/python3.10/site-packages (from python-dateutil>=2.7->matplotlib) (1.16.0)\r\n",
      "\r\n",
      "\u001B[1m[\u001B[0m\u001B[34;49mnotice\u001B[0m\u001B[1;39;49m]\u001B[0m\u001B[39;49m A new release of pip is available: \u001B[0m\u001B[31;49m23.2.1\u001B[0m\u001B[39;49m -> \u001B[0m\u001B[32;49m24.0\u001B[0m\r\n",
      "\u001B[1m[\u001B[0m\u001B[34;49mnotice\u001B[0m\u001B[1;39;49m]\u001B[0m\u001B[39;49m To update, run: \u001B[0m\u001B[32;49mpip install --upgrade pip\u001B[0m\r\n",
      "Note: you may need to restart the kernel to use updated packages.\n"
     ]
    }
   ],
   "source": [
    "pip install matplotlib"
   ],
   "metadata": {
    "collapsed": false,
    "ExecuteTime": {
     "end_time": "2024-05-26T15:20:23.741278Z",
     "start_time": "2024-05-26T15:20:22.365533Z"
    }
   },
   "id": "489580453f09c6c5",
   "execution_count": 133
  },
  {
   "cell_type": "code",
   "execution_count": 134,
   "id": "e68ab1327c598988",
   "metadata": {
    "collapsed": false,
    "ExecuteTime": {
     "end_time": "2024-05-26T15:20:23.756155Z",
     "start_time": "2024-05-26T15:20:23.743224Z"
    }
   },
   "outputs": [
    {
     "data": {
      "text/plain": "       ┌─────────────────────────────┐ ░ \nq89_0: ┤ Initialize(0.54772,0.83666) ├─░─\n       └─────────────────────────────┘ ░ \nq89_1: ────────────────────────────────░─\n                                       ░ \nq89_2: ────────────────────────────────░─\n                                       ░ \nc31: 1/══════════════════════════════════\n                                         \nc32: 1/══════════════════════════════════\n                                         \nc33: 1/══════════════════════════════════\n                                         ",
      "text/html": "<pre style=\"word-wrap: normal;white-space: pre;background: #fff0;line-height: 1.1;font-family: &quot;Courier New&quot;,Courier,monospace\">       ┌─────────────────────────────┐ ░ \nq89_0: ┤ Initialize(0.54772,0.83666) ├─░─\n       └─────────────────────────────┘ ░ \nq89_1: ────────────────────────────────░─\n                                       ░ \nq89_2: ────────────────────────────────░─\n                                       ░ \nc31: 1/══════════════════════════════════\n                                         \nc32: 1/══════════════════════════════════\n                                         \nc33: 1/══════════════════════════════════\n                                         </pre>"
     },
     "execution_count": 134,
     "metadata": {},
     "output_type": "execute_result"
    }
   ],
   "source": [
    "import numpy as np\n",
    "from qiskit_aer import Aer\n",
    "from qiskit import QuantumCircuit, QuantumRegister, ClassicalRegister\n",
    "from qiskit.compiler import transpile\n",
    "from qiskit.visualization import plot_histogram\n",
    "from qiskit.result import marginal_counts\n",
    "\n",
    "# Definizione dei coefficienti\n",
    "#alpha = np.sqrt(0.9)\n",
    "#beta = np.sqrt(0.1)\n",
    "\n",
    "alpha = np.sqrt(0.3)\n",
    "beta = np.sqrt(0.7)\n",
    "\n",
    "# Creazione di un circuito quantistico con 3 qubit e 3 bit classici\n",
    "c0 = ClassicalRegister(1)\n",
    "c1 = ClassicalRegister(1)\n",
    "c2 = ClassicalRegister(1)\n",
    "qc = QuantumCircuit(QuantumRegister(3), c0, c1, c2)\n",
    "\n",
    "# Preparazione dello stato Alice vuole che sia teletrasportato |ψ⟩ = α|0⟩ + β|1⟩ sul primo qubit\n",
    "qc.initialize([alpha, beta], 0)\n",
    "\n",
    "qc.barrier()\n",
    "qc.draw()"
   ]
  },
  {
   "cell_type": "code",
   "outputs": [
    {
     "data": {
      "text/plain": "       ┌─────────────────────────────┐ ░           \nq89_0: ┤ Initialize(0.54772,0.83666) ├─░───────────\n       └─────────────────────────────┘ ░ ┌───┐     \nq89_1: ────────────────────────────────░─┤ H ├──■──\n                                       ░ └───┘┌─┴─┐\nq89_2: ────────────────────────────────░──────┤ X ├\n                                       ░      └───┘\nc31: 1/════════════════════════════════════════════\n                                                   \nc32: 1/════════════════════════════════════════════\n                                                   \nc33: 1/════════════════════════════════════════════\n                                                   ",
      "text/html": "<pre style=\"word-wrap: normal;white-space: pre;background: #fff0;line-height: 1.1;font-family: &quot;Courier New&quot;,Courier,monospace\">       ┌─────────────────────────────┐ ░           \nq89_0: ┤ Initialize(0.54772,0.83666) ├─░───────────\n       └─────────────────────────────┘ ░ ┌───┐     \nq89_1: ────────────────────────────────░─┤ H ├──■──\n                                       ░ └───┘┌─┴─┐\nq89_2: ────────────────────────────────░──────┤ X ├\n                                       ░      └───┘\nc31: 1/════════════════════════════════════════════\n                                                   \nc32: 1/════════════════════════════════════════════\n                                                   \nc33: 1/════════════════════════════════════════════\n                                                   </pre>"
     },
     "execution_count": 135,
     "metadata": {},
     "output_type": "execute_result"
    }
   ],
   "source": [
    "# Creazione stato entangled (Bell) tra il secondo e il terzo qubit\n",
    "qc.h(1)\n",
    "qc.cx(1, 2)\n",
    "qc.draw()\n"
   ],
   "metadata": {
    "collapsed": false,
    "ExecuteTime": {
     "end_time": "2024-05-26T15:20:23.770543Z",
     "start_time": "2024-05-26T15:20:23.760071Z"
    }
   },
   "id": "45af3856902f835d",
   "execution_count": 135
  },
  {
   "cell_type": "code",
   "outputs": [
    {
     "data": {
      "text/plain": "       ┌─────────────────────────────┐ ░            ░      ┌───┐\nq89_0: ┤ Initialize(0.54772,0.83666) ├─░────────────░───■──┤ H ├\n       └─────────────────────────────┘ ░ ┌───┐      ░ ┌─┴─┐└───┘\nq89_1: ────────────────────────────────░─┤ H ├──■───░─┤ X ├─────\n                                       ░ └───┘┌─┴─┐ ░ └───┘     \nq89_2: ────────────────────────────────░──────┤ X ├─░───────────\n                                       ░      └───┘ ░           \nc31: 1/═════════════════════════════════════════════════════════\n                                                                \nc32: 1/═════════════════════════════════════════════════════════\n                                                                \nc33: 1/═════════════════════════════════════════════════════════\n                                                                ",
      "text/html": "<pre style=\"word-wrap: normal;white-space: pre;background: #fff0;line-height: 1.1;font-family: &quot;Courier New&quot;,Courier,monospace\">       ┌─────────────────────────────┐ ░            ░      ┌───┐\nq89_0: ┤ Initialize(0.54772,0.83666) ├─░────────────░───■──┤ H ├\n       └─────────────────────────────┘ ░ ┌───┐      ░ ┌─┴─┐└───┘\nq89_1: ────────────────────────────────░─┤ H ├──■───░─┤ X ├─────\n                                       ░ └───┘┌─┴─┐ ░ └───┘     \nq89_2: ────────────────────────────────░──────┤ X ├─░───────────\n                                       ░      └───┘ ░           \nc31: 1/═════════════════════════════════════════════════════════\n                                                                \nc32: 1/═════════════════════════════════════════════════════════\n                                                                \nc33: 1/═════════════════════════════════════════════════════════\n                                                                </pre>"
     },
     "execution_count": 136,
     "metadata": {},
     "output_type": "execute_result"
    }
   ],
   "source": [
    "# Separiamo il qubit di Bob da quelli di Alice\n",
    "qc.barrier()\n",
    "\n",
    "qc.cx(0, 1)\n",
    "qc.h(0)\n",
    "qc.draw()"
   ],
   "metadata": {
    "collapsed": false,
    "ExecuteTime": {
     "end_time": "2024-05-26T15:20:23.797062Z",
     "start_time": "2024-05-26T15:20:23.779717Z"
    }
   },
   "id": "cdcd7ca26df3afa2",
   "execution_count": 136
  },
  {
   "cell_type": "code",
   "outputs": [
    {
     "data": {
      "text/plain": "       ┌─────────────────────────────┐ ░            ░      ┌───┐ ░ ┌─┐   \nq89_0: ┤ Initialize(0.54772,0.83666) ├─░────────────░───■──┤ H ├─░─┤M├───\n       └─────────────────────────────┘ ░ ┌───┐      ░ ┌─┴─┐└───┘ ░ └╥┘┌─┐\nq89_1: ────────────────────────────────░─┤ H ├──■───░─┤ X ├──────░──╫─┤M├\n                                       ░ └───┘┌─┴─┐ ░ └───┘      ░  ║ └╥┘\nq89_2: ────────────────────────────────░──────┤ X ├─░────────────░──╫──╫─\n                                       ░      └───┘ ░            ░  ║  ║ \nc31: 1/═════════════════════════════════════════════════════════════╩══╬═\n                                                                    0  ║ \nc32: 1/════════════════════════════════════════════════════════════════╩═\n                                                                       0 \nc33: 1/══════════════════════════════════════════════════════════════════\n                                                                         ",
      "text/html": "<pre style=\"word-wrap: normal;white-space: pre;background: #fff0;line-height: 1.1;font-family: &quot;Courier New&quot;,Courier,monospace\">       ┌─────────────────────────────┐ ░            ░      ┌───┐ ░ ┌─┐   \nq89_0: ┤ Initialize(0.54772,0.83666) ├─░────────────░───■──┤ H ├─░─┤M├───\n       └─────────────────────────────┘ ░ ┌───┐      ░ ┌─┴─┐└───┘ ░ └╥┘┌─┐\nq89_1: ────────────────────────────────░─┤ H ├──■───░─┤ X ├──────░──╫─┤M├\n                                       ░ └───┘┌─┴─┐ ░ └───┘      ░  ║ └╥┘\nq89_2: ────────────────────────────────░──────┤ X ├─░────────────░──╫──╫─\n                                       ░      └───┘ ░            ░  ║  ║ \nc31: 1/═════════════════════════════════════════════════════════════╩══╬═\n                                                                    0  ║ \nc32: 1/════════════════════════════════════════════════════════════════╩═\n                                                                       0 \nc33: 1/══════════════════════════════════════════════════════════════════\n                                                                         </pre>"
     },
     "execution_count": 137,
     "metadata": {},
     "output_type": "execute_result"
    }
   ],
   "source": [
    "#Alice misura i sui qubit per poter comuicare l'esito a Bob\n",
    "\n",
    "qc.barrier()\n",
    "qc.measure(0 ,c0)\n",
    "qc.measure(1 ,c1)\n",
    "\n",
    "qc.draw()"
   ],
   "metadata": {
    "collapsed": false,
    "ExecuteTime": {
     "end_time": "2024-05-26T15:20:23.816655Z",
     "start_time": "2024-05-26T15:20:23.801775Z"
    }
   },
   "id": "2656dc26ff35e876",
   "execution_count": 137
  },
  {
   "cell_type": "code",
   "outputs": [
    {
     "data": {
      "text/plain": "       ┌─────────────────────────────┐ ░            ░      ┌───┐ ░ ┌─┐   »\nq89_0: ┤ Initialize(0.54772,0.83666) ├─░────────────░───■──┤ H ├─░─┤M├───»\n       └─────────────────────────────┘ ░ ┌───┐      ░ ┌─┴─┐└───┘ ░ └╥┘┌─┐»\nq89_1: ────────────────────────────────░─┤ H ├──■───░─┤ X ├──────░──╫─┤M├»\n                                       ░ └───┘┌─┴─┐ ░ └───┘      ░  ║ └╥┘»\nq89_2: ────────────────────────────────░──────┤ X ├─░────────────░──╫──╫─»\n                                       ░      └───┘ ░            ░  ║  ║ »\nc31: 1/═════════════════════════════════════════════════════════════╩══╬═»\n                                                                    0  ║ »\nc32: 1/════════════════════════════════════════════════════════════════╩═»\n                                                                       0 »\nc33: 1/══════════════════════════════════════════════════════════════════»\n                                                                         »\n«                     \n«q89_0: ──────────────\n«                     \n«q89_1: ──────────────\n«        ┌───┐  ┌───┐ \n«q89_2: ─┤ Z ├──┤ X ├─\n«        └─╥─┘  └─╥─┘ \n«       ┌──╨──┐   ║   \n«c31: 1/╡ 0x1 ╞═══╬═══\n«       └─────┘┌──╨──┐\n«c32: 1/═══════╡ 0x1 ╞\n«              └─────┘\n«c33: 1/══════════════\n«                     ",
      "text/html": "<pre style=\"word-wrap: normal;white-space: pre;background: #fff0;line-height: 1.1;font-family: &quot;Courier New&quot;,Courier,monospace\">       ┌─────────────────────────────┐ ░            ░      ┌───┐ ░ ┌─┐   »\nq89_0: ┤ Initialize(0.54772,0.83666) ├─░────────────░───■──┤ H ├─░─┤M├───»\n       └─────────────────────────────┘ ░ ┌───┐      ░ ┌─┴─┐└───┘ ░ └╥┘┌─┐»\nq89_1: ────────────────────────────────░─┤ H ├──■───░─┤ X ├──────░──╫─┤M├»\n                                       ░ └───┘┌─┴─┐ ░ └───┘      ░  ║ └╥┘»\nq89_2: ────────────────────────────────░──────┤ X ├─░────────────░──╫──╫─»\n                                       ░      └───┘ ░            ░  ║  ║ »\nc31: 1/═════════════════════════════════════════════════════════════╩══╬═»\n                                                                    0  ║ »\nc32: 1/════════════════════════════════════════════════════════════════╩═»\n                                                                       0 »\nc33: 1/══════════════════════════════════════════════════════════════════»\n                                                                         »\n«                     \n«q89_0: ──────────────\n«                     \n«q89_1: ──────────────\n«        ┌───┐  ┌───┐ \n«q89_2: ─┤ Z ├──┤ X ├─\n«        └─╥─┘  └─╥─┘ \n«       ┌──╨──┐   ║   \n«c31: 1/╡ 0x1 ╞═══╬═══\n«       └─────┘┌──╨──┐\n«c32: 1/═══════╡ 0x1 ╞\n«              └─────┘\n«c33: 1/══════════════\n«                     </pre>"
     },
     "execution_count": 138,
     "metadata": {},
     "output_type": "execute_result"
    }
   ],
   "source": [
    "\n",
    "# Bob applica le operazioni correttive a seconda delle misure di Alice\n",
    "qc.z(2).c_if(c0, 1)  # Se il primo bit misurato è 1, applicare X\n",
    "qc.x(2).c_if(c1, 1)  # Se il secondo bit misurato è 1, applicare Z\n",
    "\n",
    "qc.draw()"
   ],
   "metadata": {
    "collapsed": false,
    "ExecuteTime": {
     "end_time": "2024-05-26T15:20:23.832978Z",
     "start_time": "2024-05-26T15:20:23.819517Z"
    }
   },
   "id": "5623a6647b50e497",
   "execution_count": 138
  },
  {
   "cell_type": "code",
   "outputs": [
    {
     "data": {
      "text/plain": "       ┌─────────────────────────────┐ ░            ░      ┌───┐ ░ ┌─┐   »\nq89_0: ┤ Initialize(0.54772,0.83666) ├─░────────────░───■──┤ H ├─░─┤M├───»\n       └─────────────────────────────┘ ░ ┌───┐      ░ ┌─┴─┐└───┘ ░ └╥┘┌─┐»\nq89_1: ────────────────────────────────░─┤ H ├──■───░─┤ X ├──────░──╫─┤M├»\n                                       ░ └───┘┌─┴─┐ ░ └───┘      ░  ║ └╥┘»\nq89_2: ────────────────────────────────░──────┤ X ├─░────────────░──╫──╫─»\n                                       ░      └───┘ ░            ░  ║  ║ »\nc31: 1/═════════════════════════════════════════════════════════════╩══╬═»\n                                                                    0  ║ »\nc32: 1/════════════════════════════════════════════════════════════════╩═»\n                                                                       0 »\nc33: 1/══════════════════════════════════════════════════════════════════»\n                                                                         »\n«                        \n«q89_0: ─────────────────\n«                        \n«q89_1: ─────────────────\n«        ┌───┐  ┌───┐ ┌─┐\n«q89_2: ─┤ Z ├──┤ X ├─┤M├\n«        └─╥─┘  └─╥─┘ └╥┘\n«       ┌──╨──┐   ║    ║ \n«c31: 1/╡ 0x1 ╞═══╬════╬═\n«       └─────┘┌──╨──┐ ║ \n«c32: 1/═══════╡ 0x1 ╞═╬═\n«              └─────┘ ║ \n«c33: 1/═══════════════╩═\n«                      0 ",
      "text/html": "<pre style=\"word-wrap: normal;white-space: pre;background: #fff0;line-height: 1.1;font-family: &quot;Courier New&quot;,Courier,monospace\">       ┌─────────────────────────────┐ ░            ░      ┌───┐ ░ ┌─┐   »\nq89_0: ┤ Initialize(0.54772,0.83666) ├─░────────────░───■──┤ H ├─░─┤M├───»\n       └─────────────────────────────┘ ░ ┌───┐      ░ ┌─┴─┐└───┘ ░ └╥┘┌─┐»\nq89_1: ────────────────────────────────░─┤ H ├──■───░─┤ X ├──────░──╫─┤M├»\n                                       ░ └───┘┌─┴─┐ ░ └───┘      ░  ║ └╥┘»\nq89_2: ────────────────────────────────░──────┤ X ├─░────────────░──╫──╫─»\n                                       ░      └───┘ ░            ░  ║  ║ »\nc31: 1/═════════════════════════════════════════════════════════════╩══╬═»\n                                                                    0  ║ »\nc32: 1/════════════════════════════════════════════════════════════════╩═»\n                                                                       0 »\nc33: 1/══════════════════════════════════════════════════════════════════»\n                                                                         »\n«                        \n«q89_0: ─────────────────\n«                        \n«q89_1: ─────────────────\n«        ┌───┐  ┌───┐ ┌─┐\n«q89_2: ─┤ Z ├──┤ X ├─┤M├\n«        └─╥─┘  └─╥─┘ └╥┘\n«       ┌──╨──┐   ║    ║ \n«c31: 1/╡ 0x1 ╞═══╬════╬═\n«       └─────┘┌──╨──┐ ║ \n«c32: 1/═══════╡ 0x1 ╞═╬═\n«              └─────┘ ║ \n«c33: 1/═══════════════╩═\n«                      0 </pre>"
     },
     "execution_count": 139,
     "metadata": {},
     "output_type": "execute_result"
    }
   ],
   "source": [
    "# Bob misura il risultato e lo memorizza nel terzo bit classico\n",
    "qc.measure(2, c2)  # Misura sul terzo qubit (Bob)\n",
    "qc.draw()"
   ],
   "metadata": {
    "collapsed": true,
    "ExecuteTime": {
     "end_time": "2024-05-26T15:20:23.859547Z",
     "start_time": "2024-05-26T15:20:23.845766Z"
    }
   },
   "id": "initial_id",
   "execution_count": 139
  },
  {
   "cell_type": "code",
   "outputs": [
    {
     "data": {
      "text/plain": "<Figure size 640x480 with 1 Axes>",
      "image/png": "[encoded data removed]"
     },
     "execution_count": 140,
     "metadata": {},
     "output_type": "execute_result"
    }
   ],
   "source": [
    "# Simulazione del circuito\n",
    "backend = Aer.get_backend('qasm_simulator')\n",
    "t_qc = transpile(qc, backend)\n",
    "t_qc.save_statevector()\n",
    "job = backend.run(t_qc)\n",
    "result = job.result()\n",
    "counts = result.get_counts(qc)\n",
    "\n",
    "qubit_counts = [marginal_counts(counts, [qubit]) for qubit in range(3)]\n",
    "label = [\"q0\", \"q1\", \"q2 (Bob)\"]\n",
    "\n",
    "plot_histogram(qubit_counts, legend=label)"
   ],
   "metadata": {
    "collapsed": false,
    "ExecuteTime": {
     "end_time": "2024-05-26T15:20:24.125266Z",
     "start_time": "2024-05-26T15:20:23.861322Z"
    }
   },
   "id": "59cc1fee1ac7a4c6",
   "execution_count": 140
  },
  {
   "cell_type": "markdown",
   "source": [],
   "metadata": {
    "collapsed": false
   },
   "id": "6b9e5fb13ae6a69b"
  }
 ],
 "metadata": {
  "kernelspec": {
   "display_name": "Python 3",
   "language": "python",
   "name": "python3"
  },
  "language_info": {
   "codemirror_mode": {
    "name": "ipython",
    "version": 2
   },
   "file_extension": ".py",
   "mimetype": "text/x-python",
   "name": "python",
   "nbconvert_exporter": "python",
   "pygments_lexer": "ipython2",
   "version": "2.7.6"
  }
 },
 "nbformat": 4,
 "nbformat_minor": 5
}
